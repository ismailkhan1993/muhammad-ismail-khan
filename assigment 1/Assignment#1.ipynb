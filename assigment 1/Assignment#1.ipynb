{
 "cells": [
  {
   "cell_type": "code",
   "execution_count": 1,
   "id": "bdcfb433",
   "metadata": {},
   "outputs": [
    {
     "name": "stdout",
     "output_type": "stream",
     "text": [
      "Twinkle, twinkle, little star\n",
      "\tHow I wonder what you are!\n",
      "\t\tUp above the world so high\n",
      "\t\tLike a Diamond in the Sky\n",
      "Twinkle, twinkle, little star\n",
      "\tHow I wonder what you are!\n"
     ]
    }
   ],
   "source": [
    "print(\"Twinkle, twinkle, little star\\n\\tHow I wonder what you are!\\n\\t\\tUp above the world so high\\n\\t\\tLike a Diamond in the Sky\\nTwinkle, twinkle, little star\\n\\tHow I wonder what you are!\");"
   ]
  },
  {
   "cell_type": "code",
   "execution_count": 7,
   "id": "c7517da9",
   "metadata": {},
   "outputs": [
    {
     "name": "stdout",
     "output_type": "stream",
     "text": [
      "3.9.7\n"
     ]
    }
   ],
   "source": [
    "from platform import python_version\n",
    "\n",
    "print(python_version())"
   ]
  },
  {
   "cell_type": "code",
   "execution_count": 3,
   "id": "d445d7da",
   "metadata": {},
   "outputs": [
    {
     "name": "stdout",
     "output_type": "stream",
     "text": [
      "Current date and time : \n",
      "2022-01-04 17:39:52\n"
     ]
    }
   ],
   "source": [
    "import datetime\n",
    "now = datetime.datetime.now()\n",
    "print (\"Current date and time : \")\n",
    "print (now.strftime(\"%Y-%m-%d %H:%M:%S\"))"
   ]
  },
  {
   "cell_type": "code",
   "execution_count": 4,
   "id": "417ad748",
   "metadata": {},
   "outputs": [
    {
     "name": "stdout",
     "output_type": "stream",
     "text": [
      "Enter the radius of circle :4\n",
      "The area of circle is : 50.26548245743669\n"
     ]
    }
   ],
   "source": [
    "r = float(input(\"Enter the radius of circle :\"))\n",
    "from math import pi\n",
    "res = str(pi * r**2)\n",
    "print(\"The area of circle is : \" + res)"
   ]
  },
  {
   "cell_type": "code",
   "execution_count": 5,
   "id": "9381f597",
   "metadata": {},
   "outputs": [
    {
     "name": "stdout",
     "output_type": "stream",
     "text": [
      "Enter the first name : ismail\n",
      "Enter the last name : khan\n",
      "The Complete name is : ismail khan\n",
      "The reverse name is : nahk liamsi\n"
     ]
    }
   ],
   "source": [
    "first = str(input(\"Enter the first name : \"))\n",
    "last = str(input(\"Enter the last name : \"))\n",
    "rvfirst = first[::-1]\n",
    "rvlast = last[::-1]\n",
    "print(\"The Complete name is : \" + first + \" \" + last)\n",
    "print(\"The reverse name is : \" + rvlast + \" \" + rvfirst)"
   ]
  },
  {
   "cell_type": "code",
   "execution_count": 6,
   "id": "79ba67d7",
   "metadata": {},
   "outputs": [
    {
     "name": "stdout",
     "output_type": "stream",
     "text": [
      "enter the 1st no : 5\n",
      "enter the 2nd no : 6\n",
      "the sum is : 11.0\n"
     ]
    }
   ],
   "source": [
    "a = float(input(\"enter the 1st no : \"))\n",
    "b = float(input(\"enter the 2nd no : \"))\n",
    "c = str(a + b)\n",
    "print(\"the sum is : \" + c)"
   ]
  },
  {
   "cell_type": "code",
   "execution_count": null,
   "id": "21c9bda7",
   "metadata": {},
   "outputs": [],
   "source": []
  }
 ],
 "metadata": {
  "kernelspec": {
   "display_name": "Python 3 (ipykernel)",
   "language": "python",
   "name": "python3"
  },
  "language_info": {
   "codemirror_mode": {
    "name": "ipython",
    "version": 3
   },
   "file_extension": ".py",
   "mimetype": "text/x-python",
   "name": "python",
   "nbconvert_exporter": "python",
   "pygments_lexer": "ipython3",
   "version": "3.9.7"
  }
 },
 "nbformat": 4,
 "nbformat_minor": 5
}
